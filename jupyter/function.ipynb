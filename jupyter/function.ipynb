{
 "cells": [
  {
   "cell_type": "code",
   "execution_count": null,
   "id": "e998b206",
   "metadata": {},
   "outputs": [],
   "source": [
    "print(\"mahesh\")"
   ]
  },
  {
   "cell_type": "code",
   "execution_count": null,
   "id": "b35d4e03",
   "metadata": {},
   "outputs": [],
   "source": [
    "score = int(input(\"enter your score: \"))\n",
    "\n",
    "def show_grade(a):\n",
    "    if a > 70:\n",
    "        print(\"pass\")\n",
    "    else:\n",
    "        print(\"fail\")\n",
    "        \n",
    "show_grade(score)\n",
    "\n"
   ]
  },
  {
   "cell_type": "code",
   "execution_count": null,
   "id": "7a5338f6",
   "metadata": {},
   "outputs": [],
   "source": [
    "#Assign 1\n",
    "#Create 4 functions called add, subtract, multiply, divide\n",
    "# Each function should print the result of the operation\n",
    "# Ask the user to enter two numbers and the operation (+, -, *, /)\n",
    "# Call the relavent function based on user input\n",
    " \n",
    "#Assign 2\n",
    "#Create a function called check_even_odd()\n",
    "#It should take one parameter called 'number'\n",
    "#It will print 'Even' if the number is even, if not print 'Odd'\n",
    " \n",
    "#Assign 3\n",
    "#Ask for student name, and grade\n",
    "#Create a function display_student_info(name, grade)\n",
    "#It should print output as below\n",
    "## Name: Ravi\n",
    "## Grade: A\n",
    " \n",
    "#Assign 4\n",
    "#Ask the user for a number\n",
    "#Create a function called generate_table(number)\n",
    "# It should take 'number' as param and print multiplication table from 1 to 10 for this number\n",
    "#Call the function\n",
    "\n",
    "def add():\n",
    "    num1 = float(input(\"Enter first number: \"))\n",
    "    num2 = float(input(\"Enter second number: \"))\n",
    "    print(\"Result:\",num1 + num2)\n",
    "\n",
    "def subtract():\n",
    "    num1 = float(input(\"Enter first number: \"))\n",
    "    num2 = float(input(\"Enter second number: \"))\n",
    "    print(\"Result:\", num1 - num2)\n",
    "\n",
    "def multiply():\n",
    "    num1 = float(input(\"Enter first number: \"))\n",
    "    num2 = float(input(\"Enter second number: \"))\n",
    "    print(\"Result:\", num1 * num2)\n",
    "\n",
    "def divide():\n",
    "    num1 = float(input(\"Enter first number: \"))\n",
    "    num2 = float(input(\"Enter second number: \"))\n",
    "    print(\"Result:\", num1 / num2)\n",
    "operation = input(\"Enter operation (+, -, *, /): \")\n",
    "if operation == '+':\n",
    "    add()\n",
    "elif operation == '-':\n",
    "    subtract()\n",
    "elif operation == '*':\n",
    "    multiply()\n",
    "else:\n",
    "    divide()"
   ]
  },
  {
   "cell_type": "code",
   "execution_count": null,
   "id": "4e586fd0",
   "metadata": {},
   "outputs": [],
   "source": [
    "#Assign 2\n",
    "#Create a function called check_even_odd()\n",
    "#It should take one parameter called 'number'\n",
    "#It will print 'Even' if the number is even, if not print 'Odd'\n",
    "num = int(input(\"enter a number\"))\n",
    "def check_even_odd(num):\n",
    "    if num % 2 == 0:\n",
    "        print(\"even:\", num)\n",
    "    else:\n",
    "        print(\"odd:\", num)\n",
    "check_even_odd(num)\n",
    "        "
   ]
  },
  {
   "cell_type": "code",
   "execution_count": null,
   "id": "ae49f80f",
   "metadata": {},
   "outputs": [],
   "source": [
    "#Assign 3\n",
    "#Ask for student name, and grade\n",
    "#Create a function display_student_info(name, grade)\n",
    "#It should print output as below\n",
    "## Name: Ravi\n",
    "## Grade: A\n",
    "\n",
    "name = input(\"enter the name:\")\n",
    "grade = input(\"enter your grade:\")\n",
    "def display_student_info(name,grade):\n",
    "    print(\"name:\", name)\n",
    "    print(\"grade:\", grade)\n",
    "display_student_info(name,grade)"
   ]
  },
  {
   "cell_type": "code",
   "execution_count": 29,
   "id": "7ed8d8a2",
   "metadata": {},
   "outputs": [
    {
     "name": "stdout",
     "output_type": "stream",
     "text": [
      "multiplication table for 7:\n",
      "7 X 1 = 7\n",
      "7 X 2 = 14\n",
      "7 X 3 = 21\n",
      "7 X 4 = 28\n",
      "7 X 5 = 35\n",
      "7 X 6 = 42\n",
      "7 X 7 = 49\n",
      "7 X 8 = 56\n",
      "7 X 9 = 63\n",
      "7 X 10 = 70\n"
     ]
    }
   ],
   "source": [
    "#Assign 4\n",
    "#Ask the user for a number\n",
    "#Create a function called generate_table(number)\n",
    "# It should take 'number' as param and print multiplication table from 1 to 10 for this number\n",
    "#Call the function\n",
    "\n",
    "number = int(input(\"enter the number:\"))\n",
    "def generate_table(number):\n",
    "    print(f\"multiplication table for {number}:\")\n",
    "    for i in range(1,11):\n",
    "        print(f\"{number} X {i} = {number * i}\")\n",
    "generate_table(number)\n"
   ]
  }
 ],
 "metadata": {
  "kernelspec": {
   "display_name": ".venv",
   "language": "python",
   "name": "python3"
  },
  "language_info": {
   "codemirror_mode": {
    "name": "ipython",
    "version": 3
   },
   "file_extension": ".py",
   "mimetype": "text/x-python",
   "name": "python",
   "nbconvert_exporter": "python",
   "pygments_lexer": "ipython3",
   "version": "3.13.3"
  }
 },
 "nbformat": 4,
 "nbformat_minor": 5
}
