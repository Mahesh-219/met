{
 "cells": [
  {
   "cell_type": "code",
   "execution_count": 6,
   "id": "4422e446",
   "metadata": {},
   "outputs": [
    {
     "name": "stdout",
     "output_type": "stream",
     "text": [
      "[90.0, 85.0, 71.0]\n"
     ]
    }
   ],
   "source": [
    "# 1. Sort Students by Average Marks\n",
    "# students = [\n",
    "#  {\"name\": \"Alice\", \"marks\": [80, 85, 90]},\n",
    "#  {\"name\": \"Bob\", \"marks\": [70, 75, 68]},\n",
    "#  {\"name\": \"Charlie\", \"marks\": [90, 92, 88]}\n",
    "# ]\n",
    "# Task:\n",
    "# Write a function that calculates average marks for each student,\n",
    "# then sorts and prints the list in descending order of average.\n",
    "\n",
    "students = [\n",
    "    {\"name\": \"Alice\", \"marks\": [80, 85, 90]},\n",
    "    {\"name\": \"Bob\", \"marks\": [70, 75, 68]},\n",
    "    {\"name\": \"Charlie\", \"marks\": [90, 92, 88]}\n",
    "]\n",
    "\n",
    "result = []\n",
    "\n",
    "for student in students:\n",
    "    marks = student[\"marks\"]\n",
    "    total = 0\n",
    "    for entry in marks:\n",
    "        total = entry + total\n",
    "    avg = total / len(marks)\n",
    "    result.append(avg)\n",
    "result.sort(reverse=True)\n",
    "\n",
    "print(result)\n",
    "    \n",
    "\n",
    "\n"
   ]
  },
  {
   "cell_type": "code",
   "execution_count": 4,
   "id": "0c8726ee",
   "metadata": {},
   "outputs": [
    {
     "name": "stdout",
     "output_type": "stream",
     "text": [
      "{'Alice': [1, 1, 0, 1, 1], 'Charlie': [1, 1, 1, 1, 1]}\n"
     ]
    }
   ],
   "source": [
    "# 2. Remove Low Attendance Students\n",
    "# attendance = {\n",
    "#  \"Alice\": [1, 1, 0, 1, 1],\n",
    "#  \"Bob\": [0, 1, 0, 0, 1],\n",
    "#  \"Charlie\": [1, 1, 1, 1, 1]\n",
    "# }\n",
    "# Task:\n",
    "# Remove students with less than 3 days of attendance using remove() or pop().\n",
    "\n",
    "\n",
    "\n",
    "\n",
    "attendance = {\n",
    "    \"Alice\": [1, 1, 0, 1, 1],\n",
    "    \"Bob\": [0, 1, 0, 0, 1],\n",
    "    \"Charlie\": [1, 1, 1, 1, 1]\n",
    "}\n",
    "\n",
    "remove_items = []\n",
    "\n",
    "for item in attendance:\n",
    "    key = item\n",
    "    value = attendance[item]\n",
    "    count = 0\n",
    "    for v in value:\n",
    "        if v == 1:\n",
    "            count += 1\n",
    "    if count < 3:\n",
    "        remove_items.append(key)\n",
    "        \n",
    "for i in remove_items:\n",
    "    attendance.pop(i)\n",
    "    \n",
    "print(attendance)\n"
   ]
  },
  {
   "cell_type": "code",
   "execution_count": 8,
   "id": "8d64c9fd",
   "metadata": {},
   "outputs": [
    {
     "name": "stdout",
     "output_type": "stream",
     "text": [
      "{'user': 'dave', 'msg': 'Yo'}\n",
      "{'user': 'charlie', 'msg': 'Hey'}\n"
     ]
    }
   ],
   "source": [
    "# 3. Pop Recent Messages for Moderation\n",
    "# messages = [\n",
    "#  {\"user\": \"alice\", \"msg\": \"Hi\"},\n",
    "#  {\"user\": \"bob\", \"msg\": \"Hello\"},\n",
    "#  {\"user\": \"charlie\", \"msg\": \"Hey\"},\n",
    "#  {\"user\": \"dave\", \"msg\": \"Yo\"}\n",
    "# ]\n",
    "# Task:\n",
    "# Use a while loop to pop and print the last 2 messages.\n",
    "\n",
    "\n",
    "\n",
    "messages = [\n",
    "    {\"user\": \"alice\", \"msg\": \"Hi\"},\n",
    "    {\"user\": \"bob\", \"msg\": \"Hello\"},\n",
    "    {\"user\": \"charlie\", \"msg\": \"Hey\"},\n",
    "    {\"user\": \"dave\", \"msg\": \"Yo\"}\n",
    "]\n",
    "\n",
    "count = 0\n",
    "while count < 2:\n",
    "    count += 1\n",
    "    last_message = messages.pop() \n",
    "    print(last_message)\n",
    "\n",
    "\n"
   ]
  },
  {
   "cell_type": "code",
   "execution_count": 13,
   "id": "bba9a195",
   "metadata": {},
   "outputs": [
    {
     "name": "stdout",
     "output_type": "stream",
     "text": [
      "Laptop is Expensive\n",
      "Mouse is Budget\n",
      "Phone is Expensive\n"
     ]
    }
   ],
   "source": [
    "# 4. Categorize Products by Price Range\n",
    "# products = [\n",
    "#  {\"name\": \"Laptop\", \"price\": 60000},\n",
    "#  {\"name\": \"Mouse\", \"price\": 500},\n",
    "#  {\"name\": \"Phone\", \"price\": 25000}\n",
    "\n",
    "# ]\n",
    "# # Task:\n",
    "# # Use if-else to print product name and \"Expensive\" if > 10000, else \"Budget\".\n",
    "\n",
    "\n",
    "\n",
    "products = [\n",
    "    {\"name\": \"Laptop\", \"price\": 60000},\n",
    "    {\"name\": \"Mouse\", \"price\": 500},\n",
    "    {\"name\": \"Phone\", \"price\": 25000}\n",
    "]\n",
    "\n",
    "for product in products:\n",
    "    if product[\"price\"] > 10000:\n",
    "        print(f\"{product[\"name\"]} is Expensive\")\n",
    "    else:\n",
    "        print(f\"{product[\"name\"]} is Budget\")\n"
   ]
  },
  {
   "cell_type": "code",
   "execution_count": 12,
   "id": "b41d2e1c",
   "metadata": {},
   "outputs": [
    {
     "name": "stdout",
     "output_type": "stream",
     "text": [
      " no of students who scored more than 75: 6\n"
     ]
    }
   ],
   "source": [
    "# 5. Count Grades using Nested Loops\n",
    "# grades = {\n",
    "#  \"Class A\": [80, 90, 78],\n",
    "#  \"Class B\": [60, 55, 70],\n",
    "#  \"Class C\": [88, 92, 85]\n",
    "# }\n",
    "# Task:\n",
    "# Use nested loops to count how many students scored more than 75.\n",
    "\n",
    "\n",
    "\n",
    "grades = {\n",
    "    \"Class A\": [80, 90, 78],\n",
    "    \"Class B\": [60, 55, 70],\n",
    "    \"Class C\": [88, 92, 85]\n",
    "}\n",
    "\n",
    "count = 0\n",
    "for class_name, scores in grades.items():\n",
    "    for score in scores:\n",
    "        if score > 75:\n",
    "            count += 1\n",
    "print(f\" no of students who scored more than 75: {count}\")"
   ]
  },
  {
   "cell_type": "code",
   "execution_count": 1,
   "id": "a4bfcc62",
   "metadata": {},
   "outputs": [
    {
     "name": "stdout",
     "output_type": "stream",
     "text": [
      "[{'id': 2, 'name': 'Fridge'}, {'id': 3, 'name': 'Microwave'}]\n"
     ]
    }
   ],
   "source": [
    "#6. Search and Remove Product\n",
    "# catalog = [\n",
    "#  {\"id\": 1, \"name\": \"TV\"},\n",
    "#  {\"id\": 2, \"name\": \"Fridge\"},\n",
    "#  {\"id\": 3, \"name\": \"Microwave\"}\n",
    "# ]\n",
    "# Task:\n",
    "# Write a function to remove a product by name using remove() and return updated list.\n",
    "\n",
    "catalog = [\n",
    "    {\"id\": 1, \"name\": \"TV\"},\n",
    "    {\"id\": 2, \"name\": \"Fridge\"},\n",
    "    {\"id\": 3, \"name\": \"Microwave\"}\n",
    "]\n",
    "product_name_to_remove = \"TV\"\n",
    "\n",
    "for product in catalog:\n",
    "    if product[\"name\"] == product_name_to_remove:\n",
    "        catalog.remove(product)\n",
    "print(catalog)\n",
    "\n"
   ]
  },
  {
   "cell_type": "code",
   "execution_count": 77,
   "id": "bb8b797a",
   "metadata": {},
   "outputs": [
    {
     "name": "stdout",
     "output_type": "stream",
     "text": [
      "john\n",
      "jane\n"
     ]
    }
   ],
   "source": [
    "# 7. Build User Directory with Loops and Conditions\n",
    "# users = [\n",
    "#  {\"username\": \"admin\", \"role\": \"superuser\"},\n",
    "#  {\"username\": \"john\", \"role\": \"user\"},\n",
    "#  {\"username\": \"jane\", \"role\": \"user\"}\n",
    "# ]\n",
    "# # Task:\n",
    "# Print usernames who are not superuser using for loop and if condition.\n",
    "\n",
    "users = [\n",
    "    {\"username\": \"admin\", \"role\": \"superuser\"},\n",
    "    {\"username\": \"john\", \"role\": \"user\"},\n",
    "    {\"username\": \"jane\", \"role\": \"user\"}\n",
    "]\n",
    "\n",
    "for user in users:\n",
    "    if user[\"role\"] != \"superuser\":\n",
    "        print(user[\"username\"])\n",
    "        \n"
   ]
  },
  {
   "cell_type": "code",
   "execution_count": 4,
   "id": "056f6b05",
   "metadata": {},
   "outputs": [
    {
     "name": "stdout",
     "output_type": "stream",
     "text": [
      "4.6\n"
     ]
    }
   ],
   "source": [
    "#8. Validate Score Entry using While Loop\n",
    "# Task:\n",
    "# Ask user to input 5 scores using a while loop.\n",
    "# Ensure each score is between 0 and 100 using if statement.\n",
    "# Store in a list and print the average.\n",
    "\n",
    "scores = []\n",
    "count = 0\n",
    "\n",
    "while count < 5 :\n",
    "    score = int(input(\"enter score between 0 to 100: \"))\n",
    "    if 0 <= score <= 100:\n",
    "        scores.append(score)\n",
    "        count += 1\n",
    "    else:\n",
    "        print(\"invalid score , please enter number between 0 to 100 Only!\")\n",
    "        \n",
    "\n",
    "average_score = score / 5\n",
    "\n",
    "print(average_score)\n",
    "        \n",
    "    \n"
   ]
  },
  {
   "cell_type": "code",
   "execution_count": null,
   "id": "8aa136d2",
   "metadata": {},
   "outputs": [
    {
     "name": "stdout",
     "output_type": "stream",
     "text": [
      "[50, 60, 70, 75, 80, 90]\n"
     ]
    }
   ],
   "source": [
    "#marks = [[70, 80], [60, 90], [50, 75]]\n",
    "# Task:\n",
    "# Flatten the list and use bubble sort logic to sort it manually without sort().\n",
    "# marks = [[70, 80], [60, 90], [50, 75]]\n",
    "\n",
    "marks = [[70, 80], [60, 90], [50, 75]]\n",
    "\n",
    "flat = []\n",
    "for i in marks:\n",
    "    for j in i:\n",
    "        flat.append(j)\n",
    "        \n",
    "for i in range(len(flat)):\n",
    "    for j in range(len(flat)-1):\n",
    "        if flat[j] > flat[j+1]:\n",
    "            flat[j], flat[j+1] = flat[j+1] , flat[j]\n",
    "print(flat)\n"
   ]
  },
  {
   "cell_type": "code",
   "execution_count": null,
   "id": "40c03ae5",
   "metadata": {},
   "outputs": [],
   "source": [
    "# 10. Custom Multiplication Table in Nested Dict\n",
    "# tables = {\n",
    "#  \"2x\": [],\n",
    "#  \"3x\": [],\n",
    "#  \"4x\": []\n",
    "# }\n",
    "# Task:\n",
    "# Write a function to fill each list with the first 10 multiples using for loop.\n",
    "\n",
    "tables = {\n",
    "        \"2x\": [],\n",
    "        \"3x\": [],\n",
    "        \"4x\": []\n",
    "    }\n",
    "    \n",
    "\n",
    "def fill_multiplication_tables():\n",
    "    for i in range(1 ,11):\n",
    "        tables[\"2x\"].append(2 * i)\n",
    "        tables[\"3x\"].append(3 * i)\n",
    "        tables[\"4x\"].append(4 * i)\n",
    "fill_multiplication_tables()\n",
    "print(tables)\n",
    "\n",
    "\n"
   ]
  }
 ],
 "metadata": {
  "kernelspec": {
   "display_name": ".venv",
   "language": "python",
   "name": "python3"
  },
  "language_info": {
   "codemirror_mode": {
    "name": "ipython",
    "version": 3
   },
   "file_extension": ".py",
   "mimetype": "text/x-python",
   "name": "python",
   "nbconvert_exporter": "python",
   "pygments_lexer": "ipython3",
   "version": "3.13.3"
  }
 },
 "nbformat": 4,
 "nbformat_minor": 5
}
