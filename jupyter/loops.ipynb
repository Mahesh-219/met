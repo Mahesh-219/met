{
 "cells": [
  {
   "cell_type": "code",
   "execution_count": null,
   "id": "c5c93faa",
   "metadata": {},
   "outputs": [],
   "source": [
    "n=10\n",
    "while n>5 :\n",
    "    print(n)\n",
    "    n= n-1\n",
    "print(\"hello\")\n",
    "print(n)"
   ]
  },
  {
   "cell_type": "code",
   "execution_count": null,
   "id": "42ab0c13",
   "metadata": {},
   "outputs": [],
   "source": [
    "n = 10\n",
    "while n>0:\n",
    "    if 10%2==0:\n",
    "        print(n)\n",
    "    n = n-1\n",
    "    print(n)\n",
    "    "
   ]
  },
  {
   "cell_type": "code",
   "execution_count": null,
   "id": "d10ba287",
   "metadata": {},
   "outputs": [],
   "source": [
    "#1. Write a program to print numbers from 30 to 40 using while loop\n",
    "n= 40\n",
    "while n>30:\n",
    "    print(n)\n",
    "    n = n-1\n",
    "print(\"hello\")\n",
    "print(n)"
   ]
  },
  {
   "cell_type": "code",
   "execution_count": null,
   "id": "c73dcbce",
   "metadata": {},
   "outputs": [],
   "source": [
    "#3 Write a program to print all even numbers from 2 to 20 using a while loop\n",
    "n = 20\n",
    "while n >2:\n",
    "    if n % 2 ==0:\n",
    "        print(n)\n",
    "    n = n-1\n",
    "print(n)"
   ]
  },
  {
   "cell_type": "code",
   "execution_count": null,
   "id": "6d45a6d1",
   "metadata": {},
   "outputs": [],
   "source": [
    "#2. Ask user to guess a number. The correct number is 7.\n",
    "# If he enters anything other than 7, print 'Incorrect'\n",
    "num = int(input(\" guess a number\"))\n",
    "if num == 7:\n",
    "    print(\"correct\")\n",
    "else:\n",
    "    print(\"incorrect\")"
   ]
  },
  {
   "cell_type": "code",
   "execution_count": null,
   "id": "b9a4b95e",
   "metadata": {},
   "outputs": [],
   "source": [
    "#4. Write a program to read numbers from user until he enters 0.\n",
    "# If he enters 0, print sum of all numbers he entered from beginning\n",
    "total = 0\n",
    "while True:\n",
    "    num = int(input(\" enter a numbers(0 to stop):\"))\n",
    "    if num == 0:\n",
    "        break\n",
    "    total = total + num\n",
    "print(\"sum of all numbers entered:\", total)\n"
   ]
  },
  {
   "cell_type": "code",
   "execution_count": null,
   "id": "21e4925d",
   "metadata": {},
   "outputs": [],
   "source": [
    "# Write a program to read numbers from the user until he enters 0.\n",
    "# If he enters 0, print the sum of all numbers he entered from the beginning.\n",
    "total = 0\n",
    "num = int(input(\"enter a number (0 to stop):\"))\n",
    "while num != 0:\n",
    "    total = total + num\n",
    "    num = int(input(\"enter a number (0 to stop):\"))\n",
    "print(\"sum of all numbers entered:\", total)"
   ]
  }
 ],
 "metadata": {
  "language_info": {
   "name": "python"
  }
 },
 "nbformat": 4,
 "nbformat_minor": 5
}
