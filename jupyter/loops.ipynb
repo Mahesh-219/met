{
 "cells": [
  {
   "cell_type": "code",
   "execution_count": null,
   "id": "c5c93faa",
   "metadata": {},
   "outputs": [],
   "source": [
    "n=10\n",
    "while n>5 :\n",
    "    print(n)\n",
    "    n= n-1\n",
    "print(\"hello\")\n",
    "print(n)"
   ]
  },
  {
   "cell_type": "code",
   "execution_count": null,
   "id": "42ab0c13",
   "metadata": {},
   "outputs": [],
   "source": [
    "n = 10\n",
    "while n>0:\n",
    "    if 10%2==0:\n",
    "        print(n)\n",
    "    n = n-1\n",
    "    print(n)\n",
    "    "
   ]
  },
  {
   "cell_type": "code",
   "execution_count": null,
   "id": "d10ba287",
   "metadata": {},
   "outputs": [],
   "source": [
    "#1. Write a program to print numbers from 30 to 40 using while loop\n",
    "n= 40\n",
    "while n>30:\n",
    "    print(n)\n",
    "    n = n-1\n",
    "print(\"hello\")\n",
    "print(n)"
   ]
  },
  {
   "cell_type": "code",
   "execution_count": null,
   "id": "c73dcbce",
   "metadata": {},
   "outputs": [],
   "source": [
    "#3 Write a program to print all even numbers from 2 to 20 using a while loop\n",
    "n = 20\n",
    "while n >2:\n",
    "    if n % 2 ==0:\n",
    "        print(n)\n",
    "    n = n-1\n",
    "print(n)"
   ]
  },
  {
   "cell_type": "code",
   "execution_count": 2,
   "id": "6d45a6d1",
   "metadata": {},
   "outputs": [
    {
     "name": "stdout",
     "output_type": "stream",
     "text": [
      "incorrect\n"
     ]
    }
   ],
   "source": [
    "#2. Ask user to guess a number. The correct number is 7.\n",
    "# If he enters anything other than 7, print 'Incorrect'\n",
    "num = int(input(\" guess a number\"))\n",
    "if num == 7:\n",
    "    print(\"correct\")\n",
    "else:\n",
    "    print(\"incorrect\")"
   ]
  },
  {
   "cell_type": "code",
   "execution_count": null,
   "id": "b9a4b95e",
   "metadata": {},
   "outputs": [],
   "source": [
    "#4. Write a program to read numbers from user until he enters 0.\n",
    "# If he enters 0, print sum of all numbers he entered from beginning\n",
    "total = 0\n",
    "while True:\n",
    "    num = int(input(\" enter a numbers(0 to stop):\"))\n",
    "    if num == 0:\n",
    "        break\n",
    "    total = total + num\n",
    "print(\"sum of all numbers entered:\", total)\n"
   ]
  },
  {
   "cell_type": "code",
   "execution_count": null,
   "id": "21e4925d",
   "metadata": {},
   "outputs": [
    {
     "name": "stdout",
     "output_type": "stream",
     "text": [
      "sum of all numbers entered: 36\n"
     ]
    }
   ],
   "source": [
    "# Write a program to read numbers from the user until he enters 0.\n",
    "# If he enters 0, print the sum of all numbers he entered from the beginning.\n",
    "total = 0\n",
    "num = int(input(\"enter a number (0 to stop):\"))\n",
    "while num != 0:\n",
    "    total = total + num\n",
    "    num = int(input(\"enter a number (0 to stop):\"))\n",
    "print(\"sum of all numbers entered:\", total)"
   ]
  },
  {
   "cell_type": "code",
   "execution_count": 4,
   "id": "9ae01c73",
   "metadata": {},
   "outputs": [
    {
     "name": "stdout",
     "output_type": "stream",
     "text": [
      "found the number\n"
     ]
    }
   ],
   "source": [
    "#Assign 1\n",
    "# Store a list of numbers - 10, 22, 33, 67, 89, 83\n",
    "# Take user input - Ask to enter a number\n",
    "# Using if number is present in the list\n",
    "# If it is present, print \"Found the number\" and break the loop\n",
    "# If not, print \"Not Found Your Number!\"\n",
    "\n",
    "numbers = [10,22,33,67,89,83]\n",
    "user_input = int(input(\"enter the number:\"))\n",
    "for i in numbers:\n",
    "    if user_input in numbers:\n",
    "        print(\"found the number\")\n",
    "        break\n",
    "    else:\n",
    "        print(\"not found the number\")\n",
    "    \n"
   ]
  },
  {
   "cell_type": "code",
   "execution_count": 15,
   "id": "43807096",
   "metadata": {},
   "outputs": [
    {
     "name": "stdout",
     "output_type": "stream",
     "text": [
      "Wrong password. You have 2 attempts left.\n",
      "Wrong password. You have 1 attempts left.\n",
      "Access Granted\n"
     ]
    }
   ],
   "source": [
    "\n",
    "#Assign 2\n",
    "# Have a variable and store password as 'secret123'\n",
    "# Ask user to guess password\n",
    "# User have only three chances to guess the password\n",
    "# After each wrong attempt show remaining attempts\n",
    "# If guessed correctly, print \"Access Granted\" and break\n",
    "# If all chances are used print \"Access Denied\"\n",
    "# Use while-else to acheive this\n",
    "\n",
    "password = 'secret123'\n",
    "attempts = 3\n",
    "while attempts > 0:\n",
    "    guess = input(\"Please guess the password: \")\n",
    "    if guess == password:\n",
    "        print(\"Access Granted\")\n",
    "        break\n",
    "    else:\n",
    "        attempts -= 1  \n",
    "        print(f\"Wrong password. You have {attempts} attempts left.\")\n",
    "else:\n",
    "    print(\"Access Denied\")\n"
   ]
  },
  {
   "cell_type": "code",
   "execution_count": 10,
   "id": "bfca2285",
   "metadata": {},
   "outputs": [
    {
     "name": "stdout",
     "output_type": "stream",
     "text": [
      "almond milk index is :0\n",
      "bread index is :1\n",
      "milk chocolate index is :2\n",
      "eggs index is :3\n",
      "milk index is :4\n",
      "total no of milk words:3\n"
     ]
    }
   ],
   "source": [
    "# Assignment 1: Analyze a Shopping List (Lists + For Loop)\n",
    "#  You are building a grocery app. Given a list of items, write a program to:\n",
    "#  1. Print each item in the shopping list with a serial number.\n",
    "#  2. Count how many items contain the word \"milk\".\n",
    "#  Example Input:\n",
    "#  shopping_list = [\"almond milk\", \"bread\", \"milk chocolate\", \"eggs\", \"milk\"]\n",
    "#  Expected Output:\n",
    "#  1. almond milk\n",
    "#  2. bread\n",
    "#  3. milk chocolate\n",
    "#  4. eggs\n",
    "#  5. milk\n",
    "#  Milk-related items: 3\n",
    "\n",
    "\n",
    "shopping_list = [\"almond milk\", \"bread\", \"milk chocolate\", \"eggs\", \"milk\"]\n",
    "\n",
    "\n",
    "for i, k in enumerate(shopping_list):\n",
    "    print(f\"{k} index is :{i}\")\n",
    "    \n",
    "count =0\n",
    "for item in shopping_list:\n",
    "    if milk in item:\n",
    "        count += 1\n",
    "print(f\"total no of milk words:{count}\")\n",
    "\n"
   ]
  },
  {
   "cell_type": "code",
   "execution_count": 30,
   "id": "8e43a7f3",
   "metadata": {},
   "outputs": [
    {
     "name": "stdout",
     "output_type": "stream",
     "text": [
      "grape product found with quantity:8\n"
     ]
    }
   ],
   "source": [
    "# Assignment 2: Inventory Lookup (Dict + For-Else)\n",
    "#  You have a dictionary of inventory items in a store. Ask the user to enter a product name and search for it\n",
    "#  using a for-else loop. Print the quantity if found. If not found, show a message.\n",
    "#  Example Dictionary:\n",
    "#  inventory = {\n",
    "\n",
    "#     \"apple\": 10,\n",
    "#     \"banana\": 25,\n",
    "#     \"orange\": 15,\n",
    "#     \"grape\": 8\n",
    "#  }\n",
    "#  Hint: Use for key in dict + if product == key + else.\n",
    "\n",
    "\n",
    "inventory = {\n",
    "\n",
    "    \"apple\": 10,\n",
    "    \"banana\": 25,\n",
    "    \"orange\": 15,\n",
    "    \"grape\": 8\n",
    "}\n",
    "product_name = input(\"enter the product name:\")\n",
    "\n",
    "\n",
    "\n",
    "for items in inventory:\n",
    "    if product_name == items:\n",
    "        print(f\"{product_name} product found with quantity:{inventory[items]}\")\n",
    "        break\n",
    "else:\n",
    "        print(f\"{product_name} sorry! product not found!.\")\n"
   ]
  },
  {
   "cell_type": "code",
   "execution_count": 36,
   "id": "29d481b2",
   "metadata": {},
   "outputs": [
    {
     "name": "stdout",
     "output_type": "stream",
     "text": [
      "gninraeL\n",
      "nohtyP\n",
      "si\n",
      "nuf\n"
     ]
    }
   ],
   "source": [
    "#  Assignment 3: Reverse Each Word (Strings + For Loop)\n",
    "#  Write a program that takes a sentence, splits it into words, and prints each word reversed.\n",
    "#  Example Input:\n",
    "#  sentence = \"Learning Python is fun\"\n",
    "#  Expected Output:\n",
    "#  gninraeL\n",
    "#  nohtyP\n",
    "#  si\n",
    "#  nu\n",
    "\n",
    "sentence = \"Learning Python is fun\"\n",
    "\n",
    "words = sentence.split()\n",
    "\n",
    "for word in words:\n",
    "    \n",
    "    print(word[::-1])"
   ]
  },
  {
   "cell_type": "code",
   "execution_count": 43,
   "id": "d4853894",
   "metadata": {},
   "outputs": [
    {
     "name": "stdout",
     "output_type": "stream",
     "text": [
      " Monday with temperature :30 C\n",
      " Tuesday with temperature :32 C\n",
      " wednesday with temperature :31 C\n",
      " Thursday with temperature :29 C\n",
      " Friday with temperature :28 C\n",
      " saturday with temperature :33 C\n",
      " sunday with temperature :34 C\n"
     ]
    }
   ],
   "source": [
    "#  Assignment 4: Daily Temperature Logger (Tuples + Enumerate)\n",
    "#  Given a tuple of daily temperatures for the week, print each day and its temperature using enumerate()\n",
    "#  Page 2\n",
    "\n",
    "#  starting from Monday.\n",
    "#  Example Tuple:\n",
    "#  temps = (30, 32, 31, 29, 28, 33, 34)\n",
    "#  Expected Output:\n",
    "#  Day 1 (Monday): 30°C\n",
    "#  Day 2 (Tuesday): 32°C\n",
    "#  ...\n",
    "#  Day 7 (Sunday): 34°C\n",
    "\n",
    "temps = (30, 32, 31, 29, 28, 33, 34)\n",
    "Day = (\"Monday\" , \"Tuesday\",\"wednesday\",\"Thursday\",\"Friday\",\"saturday\",\"sunday\")\n",
    "\n",
    "for i,temps in enumerate(temps):\n",
    "    print(f\" {Day[i]} with temperature :{temps} C\")"
   ]
  },
  {
   "cell_type": "code",
   "execution_count": 49,
   "id": "a520a2ef",
   "metadata": {},
   "outputs": [
    {
     "name": "stdout",
     "output_type": "stream",
     "text": [
      "10\n",
      "9\n",
      "8\n",
      "7\n",
      "6\n",
      "5\n",
      "4\n",
      "3\n",
      "2\n",
      "1\n",
      "0\n",
      "times up!\n"
     ]
    }
   ],
   "source": [
    "#  Assignment 5: Countdown Timer (Range with Step)\n",
    "#  Create a countdown timer that prints from 10 to 0 using range() with step -1.\n",
    "#  Expected Output:\n",
    "#  10\n",
    "#  9\n",
    "#  8\n",
    "#  ...\n",
    "#  0\n",
    "#  Time's up!\n",
    "\n",
    "for i in range(10,-1,-1):\n",
    "    print(i)\n",
    "    \n",
    "print(\"times up!\")\n"
   ]
  }
 ],
 "metadata": {
  "kernelspec": {
   "display_name": ".venv",
   "language": "python",
   "name": "python3"
  },
  "language_info": {
   "codemirror_mode": {
    "name": "ipython",
    "version": 3
   },
   "file_extension": ".py",
   "mimetype": "text/x-python",
   "name": "python",
   "nbconvert_exporter": "python",
   "pygments_lexer": "ipython3",
   "version": "3.13.3"
  }
 },
 "nbformat": 4,
 "nbformat_minor": 5
}
